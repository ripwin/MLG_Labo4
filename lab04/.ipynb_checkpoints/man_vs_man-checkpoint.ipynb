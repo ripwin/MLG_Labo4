{
 "cells": [
  {
   "cell_type": "markdown",
   "metadata": {},
   "source": [
    "# Man vs Woman\n",
    "Use only the natural voices of men and women to train a neural network that recognizes the gender of the speaker."
   ]
  },
  {
   "cell_type": "markdown",
   "metadata": {},
   "source": [
    "## Loading the packages"
   ]
  },
  {
   "cell_type": "code",
   "execution_count": 14,
   "metadata": {},
   "outputs": [],
   "source": [
    "import numpy as np\n",
    "import os\n",
    "import scipy.io.wavfile as wav\n",
    "\n",
    "from matplotlib import pyplot as pl\n",
    "from python_speech_features import mfcc\n",
    "\n",
    "%matplotlib inline"
   ]
  },
  {
   "cell_type": "markdown",
   "metadata": {},
   "source": [
    "## The datasets"
   ]
  },
  {
   "cell_type": "code",
   "execution_count": 21,
   "metadata": {},
   "outputs": [],
   "source": [
    "PATH = './vowels/'\n",
    "CATEGORIES = ['nam', 'naf']"
   ]
  },
  {
   "cell_type": "code",
   "execution_count": 60,
   "metadata": {},
   "outputs": [],
   "source": [
    "def create_dataset(categories):\n",
    "\n",
    "    dataset = []\n",
    "\n",
    "    # Read all files\n",
    "    for i in range(0, len(categories)):\n",
    "        for file in os.listdir(PATH):\n",
    "            if file.startswith(categories[i]):\n",
    "                \n",
    "                # Read the wav file and compute the MFCC coefficients\n",
    "                sample_rate, X = wav.read(os.path.join(PATH, file))\n",
    "                ceps = mfcc(X, samplerate=sample_rate, nfft=1024)\n",
    "\n",
    "                # Compute the mean and the standard deviation\n",
    "                mean = np.mean(ceps, axis=0)\n",
    "                sd = np.std(ceps, axis=0)\n",
    "\n",
    "                dataset.append([mean, sd, i])\n",
    "                \n",
    "    return np.array(dataset)"
   ]
  },
  {
   "cell_type": "code",
   "execution_count": 66,
   "metadata": {},
   "outputs": [
    {
     "name": "stdout",
     "output_type": "stream",
     "text": [
      "Class nam: 36 observations\n",
      "Class naf: 36 observations\n"
     ]
    }
   ],
   "source": [
    "dataset = create_dataset(CATEGORIES)\n",
    "\n",
    "for i in range(0, len(CATEGORIES)):\n",
    "    print('Class ' + CATEGORIES[i] + ': ' + str(np.count_nonzero(dataset[:,2], 0)) + ' observations')\n",
    "    "
   ]
  }
 ],
 "metadata": {
  "kernelspec": {
   "display_name": "Python 3",
   "language": "python",
   "name": "python3"
  },
  "language_info": {
   "codemirror_mode": {
    "name": "ipython",
    "version": 3
   },
   "file_extension": ".py",
   "mimetype": "text/x-python",
   "name": "python",
   "nbconvert_exporter": "python",
   "pygments_lexer": "ipython3",
   "version": "3.6.4"
  }
 },
 "nbformat": 4,
 "nbformat_minor": 2
}
